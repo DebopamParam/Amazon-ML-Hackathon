{
 "cells": [
  {
   "cell_type": "code",
   "execution_count": 4,
   "metadata": {},
   "outputs": [
    {
     "name": "stdout",
     "output_type": "stream",
     "text": [
      "Size Width Length\n",
      "One Size 42cm/16.54\" 200cmi78.74\"\n"
     ]
    }
   ],
   "source": [
    "import pandas as pd\n",
    "\n",
    "\n",
    "train = pd.read_csv(\"../../dataset/image_text_results.csv\")\n",
    "\n",
    "x = train.iloc[1][\"image_content\"]\n",
    "print(x)\n"
   ]
  },
  {
   "cell_type": "code",
   "execution_count": 2,
   "metadata": {},
   "outputs": [
    {
     "data": {
      "text/plain": [
       "'https://m.media-amazon.com/images/I/71gSRbyXmoL.jpg'"
      ]
     },
     "execution_count": 2,
     "metadata": {},
     "output_type": "execute_result"
    }
   ],
   "source": [
    "train[\"image_link\"][1]"
   ]
  },
  {
   "cell_type": "code",
   "execution_count": 3,
   "metadata": {},
   "outputs": [
    {
     "data": {
      "text/plain": [
       "array(['item_weight', 'item_volume', 'voltage', 'wattage',\n",
       "       'maximum_weight_recommendation', 'height', 'depth', 'width'],\n",
       "      dtype=object)"
      ]
     },
     "execution_count": 3,
     "metadata": {},
     "output_type": "execute_result"
    }
   ],
   "source": [
    "train[\"entity_name\"].unique()"
   ]
  },
  {
   "cell_type": "code",
   "execution_count": 4,
   "metadata": {},
   "outputs": [
    {
     "name": "stdout",
     "output_type": "stream",
     "text": [
      "Saved processed image to ../../dataset/train_images\\processed_image_0.jpg\n",
      "Saved processed image to ../../dataset/train_images\\processed_image_1.jpg\n",
      "Saved processed image to ../../dataset/train_images\\processed_image_2.jpg\n",
      "Saved processed image to ../../dataset/train_images\\processed_image_3.jpg\n",
      "Saved processed image to ../../dataset/train_images\\processed_image_4.jpg\n",
      "Saved processed image to ../../dataset/train_images\\processed_image_5.jpg\n",
      "Saved processed image to ../../dataset/train_images\\processed_image_6.jpg\n",
      "Saved processed image to ../../dataset/train_images\\processed_image_7.jpg\n",
      "Saved processed image to ../../dataset/train_images\\processed_image_8.jpg\n",
      "Saved processed image to ../../dataset/train_images\\processed_image_9.jpg\n",
      "Saved processed image to ../../dataset/train_images\\processed_image_10.jpg\n",
      "Saved processed image to ../../dataset/train_images\\processed_image_11.jpg\n",
      "Saved processed image to ../../dataset/train_images\\processed_image_12.jpg\n",
      "Saved processed image to ../../dataset/train_images\\processed_image_13.jpg\n",
      "Saved processed image to ../../dataset/train_images\\processed_image_14.jpg\n",
      "Saved processed image to ../../dataset/train_images\\processed_image_15.jpg\n",
      "Saved processed image to ../../dataset/train_images\\processed_image_16.jpg\n",
      "Saved processed image to ../../dataset/train_images\\processed_image_17.jpg\n",
      "Saved processed image to ../../dataset/train_images\\processed_image_18.jpg\n",
      "Saved processed image to ../../dataset/train_images\\processed_image_19.jpg\n",
      "Saved processed image to ../../dataset/train_images\\processed_image_20.jpg\n",
      "Saved processed image to ../../dataset/train_images\\processed_image_21.jpg\n",
      "Saved processed image to ../../dataset/train_images\\processed_image_22.jpg\n",
      "Saved processed image to ../../dataset/train_images\\processed_image_23.jpg\n",
      "Saved processed image to ../../dataset/train_images\\processed_image_24.jpg\n",
      "Saved processed image to ../../dataset/train_images\\processed_image_25.jpg\n",
      "Saved processed image to ../../dataset/train_images\\processed_image_26.jpg\n",
      "Saved processed image to ../../dataset/train_images\\processed_image_27.jpg\n",
      "Saved processed image to ../../dataset/train_images\\processed_image_28.jpg\n",
      "Saved processed image to ../../dataset/train_images\\processed_image_29.jpg\n",
      "Saved processed image to ../../dataset/train_images\\processed_image_30.jpg\n",
      "Saved processed image to ../../dataset/train_images\\processed_image_31.jpg\n",
      "Saved processed image to ../../dataset/train_images\\processed_image_32.jpg\n",
      "Saved processed image to ../../dataset/train_images\\processed_image_33.jpg\n",
      "Saved processed image to ../../dataset/train_images\\processed_image_34.jpg\n",
      "Saved processed image to ../../dataset/train_images\\processed_image_35.jpg\n",
      "Saved processed image to ../../dataset/train_images\\processed_image_36.jpg\n",
      "Saved processed image to ../../dataset/train_images\\processed_image_37.jpg\n",
      "Saved processed image to ../../dataset/train_images\\processed_image_38.jpg\n",
      "Saved processed image to ../../dataset/train_images\\processed_image_39.jpg\n",
      "Saved processed image to ../../dataset/train_images\\processed_image_40.jpg\n",
      "Saved processed image to ../../dataset/train_images\\processed_image_41.jpg\n",
      "Saved processed image to ../../dataset/train_images\\processed_image_42.jpg\n",
      "Saved processed image to ../../dataset/train_images\\processed_image_43.jpg\n",
      "Saved processed image to ../../dataset/train_images\\processed_image_44.jpg\n",
      "Saved processed image to ../../dataset/train_images\\processed_image_45.jpg\n",
      "Saved processed image to ../../dataset/train_images\\processed_image_46.jpg\n",
      "Saved processed image to ../../dataset/train_images\\processed_image_47.jpg\n",
      "Saved processed image to ../../dataset/train_images\\processed_image_48.jpg\n",
      "Saved processed image to ../../dataset/train_images\\processed_image_49.jpg\n",
      "Saved processed image to ../../dataset/train_images\\processed_image_50.jpg\n",
      "Saved processed image to ../../dataset/train_images\\processed_image_51.jpg\n",
      "Saved processed image to ../../dataset/train_images\\processed_image_52.jpg\n",
      "Saved processed image to ../../dataset/train_images\\processed_image_53.jpg\n",
      "Saved processed image to ../../dataset/train_images\\processed_image_54.jpg\n",
      "Saved processed image to ../../dataset/train_images\\processed_image_55.jpg\n",
      "Saved processed image to ../../dataset/train_images\\processed_image_56.jpg\n",
      "Saved processed image to ../../dataset/train_images\\processed_image_57.jpg\n",
      "Saved processed image to ../../dataset/train_images\\processed_image_58.jpg\n",
      "Saved processed image to ../../dataset/train_images\\processed_image_59.jpg\n",
      "Saved processed image to ../../dataset/train_images\\processed_image_60.jpg\n",
      "Saved processed image to ../../dataset/train_images\\processed_image_61.jpg\n",
      "Saved processed image to ../../dataset/train_images\\processed_image_62.jpg\n",
      "Saved processed image to ../../dataset/train_images\\processed_image_63.jpg\n",
      "Saved processed image to ../../dataset/train_images\\processed_image_64.jpg\n",
      "Saved processed image to ../../dataset/train_images\\processed_image_65.jpg\n",
      "Saved processed image to ../../dataset/train_images\\processed_image_66.jpg\n",
      "Saved processed image to ../../dataset/train_images\\processed_image_67.jpg\n",
      "Saved processed image to ../../dataset/train_images\\processed_image_68.jpg\n",
      "Saved processed image to ../../dataset/train_images\\processed_image_69.jpg\n",
      "Saved processed image to ../../dataset/train_images\\processed_image_70.jpg\n",
      "Saved processed image to ../../dataset/train_images\\processed_image_71.jpg\n",
      "Saved processed image to ../../dataset/train_images\\processed_image_72.jpg\n",
      "Saved processed image to ../../dataset/train_images\\processed_image_73.jpg\n",
      "Saved processed image to ../../dataset/train_images\\processed_image_74.jpg\n",
      "Saved processed image to ../../dataset/train_images\\processed_image_75.jpg\n",
      "Saved processed image to ../../dataset/train_images\\processed_image_76.jpg\n",
      "Saved processed image to ../../dataset/train_images\\processed_image_77.jpg\n",
      "Saved processed image to ../../dataset/train_images\\processed_image_78.jpg\n",
      "Saved processed image to ../../dataset/train_images\\processed_image_79.jpg\n",
      "Saved processed image to ../../dataset/train_images\\processed_image_80.jpg\n",
      "Saved processed image to ../../dataset/train_images\\processed_image_81.jpg\n",
      "Saved processed image to ../../dataset/train_images\\processed_image_82.jpg\n",
      "Saved processed image to ../../dataset/train_images\\processed_image_83.jpg\n",
      "Saved processed image to ../../dataset/train_images\\processed_image_84.jpg\n",
      "Saved processed image to ../../dataset/train_images\\processed_image_85.jpg\n",
      "Saved processed image to ../../dataset/train_images\\processed_image_86.jpg\n",
      "Saved processed image to ../../dataset/train_images\\processed_image_87.jpg\n",
      "Saved processed image to ../../dataset/train_images\\processed_image_88.jpg\n",
      "Saved processed image to ../../dataset/train_images\\processed_image_89.jpg\n",
      "Saved processed image to ../../dataset/train_images\\processed_image_90.jpg\n",
      "Saved processed image to ../../dataset/train_images\\processed_image_91.jpg\n",
      "Saved processed image to ../../dataset/train_images\\processed_image_92.jpg\n",
      "Saved processed image to ../../dataset/train_images\\processed_image_93.jpg\n",
      "Saved processed image to ../../dataset/train_images\\processed_image_94.jpg\n",
      "Saved processed image to ../../dataset/train_images\\processed_image_95.jpg\n",
      "Saved processed image to ../../dataset/train_images\\processed_image_96.jpg\n",
      "Saved processed image to ../../dataset/train_images\\processed_image_97.jpg\n",
      "Saved processed image to ../../dataset/train_images\\processed_image_98.jpg\n",
      "Saved processed image to ../../dataset/train_images\\processed_image_99.jpg\n"
     ]
    }
   ],
   "source": [
    "from src.utils import ImageConverter\n",
    "\n",
    "train_csv = pd.read_csv(\"../../dataset/train.csv\")\n",
    "train_csv = train_csv.head(100)\n",
    "train_images_folder_path = \"../../dataset/train_images\" \n",
    "\n",
    "image_converter = ImageConverter(train_csv, train_images_folder_path, image_size=(500,500))\n",
    "\n",
    "image_converter.process_images_from_csv()"
   ]
  },
  {
   "cell_type": "code",
   "execution_count": null,
   "metadata": {},
   "outputs": [],
   "source": []
  },
  {
   "cell_type": "code",
   "execution_count": 14,
   "metadata": {},
   "outputs": [],
   "source": [
    "import requests\n",
    "import json\n",
    "\n",
    "def query_llama(prompt, model=\"qwen2:1.5b\"):\n",
    "    # URL to Ollama's API (default is localhost on port 11434)\n",
    "    url = \"http://localhost:11434/api/generate\"\n",
    "    \n",
    "    # Headers and the data payload with the model and prompt\n",
    "    headers = {\"Content-Type\": \"application/json\"}\n",
    "    data = {\n",
    "        \"model\": model,  # Model name, e.g., 'llama2'\n",
    "        \"prompt\": prompt\n",
    "    }\n",
    "\n",
    "    # Make a POST request to Ollama's local server with streaming enabled\n",
    "    response = requests.post(url, headers=headers, data=json.dumps(data), stream=True)\n",
    "    \n",
    "    # Check if the request was successful\n",
    "    if response.status_code == 200:\n",
    "        full_response = \"\"\n",
    "        try:\n",
    "            # Stream the response content line by line\n",
    "            for line in response.iter_lines():\n",
    "                if line:\n",
    "                    json_obj = json.loads(line.decode('utf-8'))\n",
    "                    full_response += json_obj.get('response', '')\n",
    "            return full_response\n",
    "        except json.JSONDecodeError as e:\n",
    "            print(f\"JSONDecodeError: {e}\")\n",
    "            print(\"Raw response content:\", response.content)\n",
    "            return f\"Error decoding JSON: {e}\"\n",
    "    else:\n",
    "        return f\"Error: {response.status_code}, {response.text}\"\n"
   ]
  },
  {
   "cell_type": "code",
   "execution_count": 17,
   "metadata": {},
   "outputs": [
    {
     "name": "stdout",
     "output_type": "stream",
     "text": [
      "The width of the object is 200cm or 78.74 inches.\n"
     ]
    }
   ],
   "source": [
    "prompt = \"\"\" ( Size Width Length One Size 42cm/16.54\" 200cmi78.74 ) can you please detect width of the object from the text which is detected from an by Optical Character Recognition (OCR) system? Give the \n",
    "width of the object in centimeters only. width is the second largest number in the text\"\"\"\n",
    "response = query_llama(prompt)\n",
    "print(response)"
   ]
  }
 ],
 "metadata": {
  "kernelspec": {
   "display_name": "Python 3",
   "language": "python",
   "name": "python3"
  },
  "language_info": {
   "codemirror_mode": {
    "name": "ipython",
    "version": 3
   },
   "file_extension": ".py",
   "mimetype": "text/x-python",
   "name": "python",
   "nbconvert_exporter": "python",
   "pygments_lexer": "ipython3",
   "version": "3.12.1"
  }
 },
 "nbformat": 4,
 "nbformat_minor": 2
}
